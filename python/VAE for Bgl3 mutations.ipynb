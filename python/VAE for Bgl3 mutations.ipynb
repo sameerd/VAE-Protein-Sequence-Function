{
 "cells": [
  {
   "cell_type": "code",
   "execution_count": 1,
   "metadata": {},
   "outputs": [],
   "source": [
    "!#cd ..; python3 python/scripts/preprocess_bgl3.py"
   ]
  },
  {
   "cell_type": "code",
   "execution_count": 2,
   "metadata": {},
   "outputs": [],
   "source": [
    "# general imports\n",
    "import random\n",
    "import numpy as np\n",
    "import pandas as pd\n",
    "%matplotlib inline\n",
    "import matplotlib.pyplot as plt\n",
    "import seaborn as sns"
   ]
  },
  {
   "cell_type": "code",
   "execution_count": 3,
   "metadata": {},
   "outputs": [],
   "source": [
    "from utils import mutate_wt, truncate_seq_from_asterisk_onwards"
   ]
  },
  {
   "cell_type": "code",
   "execution_count": 4,
   "metadata": {},
   "outputs": [
    {
     "name": "stderr",
     "output_type": "stream",
     "text": [
      "Using TensorFlow backend.\n"
     ]
    }
   ],
   "source": [
    "# suppress warnings\n",
    "import warnings\n",
    "warnings.simplefilter(action='ignore', category=FutureWarning)\n",
    "\n",
    "# imports for machine learning\n",
    "import tensorflow as tf\n",
    "import keras.utils\n",
    "from keras import objectives\n",
    "from keras.layers import Lambda, Input, Dense\n",
    "from keras.models import Model\n",
    "from keras.datasets import mnist\n",
    "from keras.losses import mse, binary_crossentropy\n",
    "from keras.utils import plot_model\n",
    "from keras import backend as K\n",
    "\n",
    "# imports for visualization\n",
    "from IPython.display import SVG\n",
    "from keras.utils.vis_utils import model_to_dot"
   ]
  },
  {
   "cell_type": "code",
   "execution_count": 5,
   "metadata": {},
   "outputs": [],
   "source": [
    "single_mutation_file = \"../data/working/Bgl3_single_mutations.tsv\"\n",
    "double_mutation_file = \"../data/working/Bgl3_double_mutations.tsv\""
   ]
  },
  {
   "cell_type": "code",
   "execution_count": 6,
   "metadata": {},
   "outputs": [],
   "source": [
    "single_mutations = pd.read_csv(single_mutation_file, sep=\"\\t\")\n",
    "double_mutations = pd.read_csv(double_mutation_file, sep=\"\\t\")"
   ]
  },
  {
   "cell_type": "code",
   "execution_count": 7,
   "metadata": {},
   "outputs": [
    {
     "data": {
      "text/html": [
       "<div>\n",
       "<style scoped>\n",
       "    .dataframe tbody tr th:only-of-type {\n",
       "        vertical-align: middle;\n",
       "    }\n",
       "\n",
       "    .dataframe tbody tr th {\n",
       "        vertical-align: top;\n",
       "    }\n",
       "\n",
       "    .dataframe thead th {\n",
       "        text-align: right;\n",
       "    }\n",
       "</style>\n",
       "<table border=\"1\" class=\"dataframe\">\n",
       "  <thead>\n",
       "    <tr style=\"text-align: right;\">\n",
       "      <th></th>\n",
       "      <th>Unnamed: 0</th>\n",
       "      <th>positive</th>\n",
       "      <th>unsorted</th>\n",
       "      <th>positive_hitemp</th>\n",
       "    </tr>\n",
       "  </thead>\n",
       "  <tbody>\n",
       "    <tr>\n",
       "      <th>count</th>\n",
       "      <td>5573.0</td>\n",
       "      <td>4522.0</td>\n",
       "      <td>4435.0</td>\n",
       "      <td>4054.0</td>\n",
       "    </tr>\n",
       "  </tbody>\n",
       "</table>\n",
       "</div>"
      ],
      "text/plain": [
       "       Unnamed: 0  positive  unsorted  positive_hitemp\n",
       "count      5573.0    4522.0    4435.0           4054.0"
      ]
     },
     "execution_count": 7,
     "metadata": {},
     "output_type": "execute_result"
    }
   ],
   "source": [
    "single_mutations.describe()[:1]"
   ]
  },
  {
   "cell_type": "code",
   "execution_count": 8,
   "metadata": {},
   "outputs": [
    {
     "data": {
      "text/html": [
       "<div>\n",
       "<style scoped>\n",
       "    .dataframe tbody tr th:only-of-type {\n",
       "        vertical-align: middle;\n",
       "    }\n",
       "\n",
       "    .dataframe tbody tr th {\n",
       "        vertical-align: top;\n",
       "    }\n",
       "\n",
       "    .dataframe thead th {\n",
       "        text-align: right;\n",
       "    }\n",
       "</style>\n",
       "<table border=\"1\" class=\"dataframe\">\n",
       "  <thead>\n",
       "    <tr style=\"text-align: right;\">\n",
       "      <th></th>\n",
       "      <th>Unnamed: 0</th>\n",
       "      <th>positive</th>\n",
       "      <th>unsorted</th>\n",
       "      <th>positive_hitemp</th>\n",
       "    </tr>\n",
       "  </thead>\n",
       "  <tbody>\n",
       "    <tr>\n",
       "      <th>count</th>\n",
       "      <td>523013.0</td>\n",
       "      <td>202618.0</td>\n",
       "      <td>263530.0</td>\n",
       "      <td>198481.0</td>\n",
       "    </tr>\n",
       "  </tbody>\n",
       "</table>\n",
       "</div>"
      ],
      "text/plain": [
       "       Unnamed: 0  positive  unsorted  positive_hitemp\n",
       "count    523013.0  202618.0  263530.0         198481.0"
      ]
     },
     "execution_count": 8,
     "metadata": {},
     "output_type": "execute_result"
    }
   ],
   "source": [
    "double_mutations.describe()[:1]"
   ]
  },
  {
   "cell_type": "code",
   "execution_count": 9,
   "metadata": {
    "scrolled": false
   },
   "outputs": [
    {
     "name": "stdout",
     "output_type": "stream",
     "text": [
      "ALPHABET = ['A' 'C' 'D' 'E' 'F' 'G' 'H' 'I' 'K' 'L' 'M' 'N' 'P' 'Q' 'R' 'S' 'T' 'V'\n",
      " 'W' 'Y']\n",
      "ALPHABET_SIZE = 20\n",
      "WT_SIZE =  501\n",
      "WT       (first few elements) =  ['M' 'V' 'P' 'A' 'A' 'Q' 'Q' 'T' 'A' 'M' 'A' 'P' 'D' 'A' 'A']\n",
      "WT_INDEX (first few elements) =  [10 17 12  0  0 13 13 16  0 10  0 12  2  0  0]\n"
     ]
    }
   ],
   "source": [
    "# Set up constants for wild type and alphabets\n",
    "WT_Bgl3 = 'MVPAAQQTAMAPDAALTFPEGFLWGSATASYQIEGAAAEDGRTPSIWDTYARTPGRVRNGDTGDVATDHYHRWREDVALMAELGLGAYRFSLAWPRIQPTGRGPALQKGLDFYRRLADELLAKGIQPVATLYHWDLPQELENAGGWPERATAERFAEYAAIAADALGDRVKTWTTLNEPWCSAFLGYGSGVHAPGRTDPVAALRAAHHLNLGHGLAVQALRDRLPADAQCSVTLNIHHVRPLTDSDADADAVRRIDALANRVFTGPMLQGAYPEDLVKDTAGLTDWSFVRDGDLRLAHQKLDFLGVNYYSPTLVSEADGSGTHNSDGHGRSAHSPWPGADRVAFHQPPGETTAMGWAVDPSGLYELLRRLSSDFPALPLVITENGAAFHDYADPEGNVNDPERIAYVRDHLAAVHRAIKDGSDVRGYFLWSLLDNFEWAHGYSKRFGAVYVDYPTGTRIPKASARWYAEVARTGVLPTAGDPNSSSVDKLAAALEHHHHHH*'\n",
    "# Remove the asterisk at the end\n",
    "WT_Bgl3 = np.array(list(truncate_seq_from_asterisk_onwards(WT_Bgl3)))\n",
    "\n",
    "# Find all the unique letters\n",
    "ALPHABET = np.array([l for l in set(WT_Bgl3) if l != \"*\"])\n",
    "ALPHABET.sort()\n",
    "ALPHABET_SIZE = len(ALPHABET)\n",
    "print(\"ALPHABET =\", ALPHABET)\n",
    "print(\"ALPHABET_SIZE =\", ALPHABET_SIZE)\n",
    "\n",
    "WT_SIZE = len(WT_Bgl3)\n",
    "print(\"WT_SIZE = \", WT_SIZE)\n",
    "\n",
    "# This is an integer representation of the WT (index positions of the ALPHABET)\n",
    "WT_INDEX = ALPHABET.searchsorted(WT_Bgl3)\n",
    "print(\"WT       (first few elements) = \", WT_Bgl3[:15])\n",
    "print(\"WT_INDEX (first few elements) = \", WT_INDEX[:15])"
   ]
  },
  {
   "cell_type": "code",
   "execution_count": 10,
   "metadata": {},
   "outputs": [
    {
     "name": "stdout",
     "output_type": "stream",
     "text": [
      "Wildtype Index (first few elements) : [10 17 12  0  0 13 13 16  0 10]\n",
      "Mutated Index  (first few elements) : [10 17 12  4  9 13 13 16  0 10]\n"
     ]
    }
   ],
   "source": [
    "# Lets do a couple of mutations and check\n",
    "print(\"Wildtype Index (first few elements) :\", WT_INDEX[:10])\n",
    "print(\"Mutated Index  (first few elements) :\", mutate_wt(WT_INDEX, ALPHABET, \"A4F\", \"A5L\")[:10])"
   ]
  },
  {
   "cell_type": "markdown",
   "metadata": {},
   "source": [
    "### Construct training data"
   ]
  },
  {
   "cell_type": "code",
   "execution_count": 11,
   "metadata": {
    "scrolled": true
   },
   "outputs": [
    {
     "name": "stdout",
     "output_type": "stream",
     "text": [
      "Wild Type One Hot\n",
      " [[0. 0. 0. ... 0. 0. 0.]\n",
      " [0. 0. 0. ... 1. 0. 0.]\n",
      " [0. 0. 0. ... 0. 0. 0.]\n",
      " ...\n",
      " [0. 0. 0. ... 0. 0. 0.]\n",
      " [0. 0. 0. ... 0. 0. 0.]\n",
      " [0. 0. 0. ... 0. 0. 0.]]\n",
      "Wild Type One Hot Shape (501, 20)\n",
      "Wild Type One Hot Flattened Shape (10020,)\n"
     ]
    }
   ],
   "source": [
    "wt_one_hot = keras.utils.to_categorical(WT_INDEX, ALPHABET_SIZE)\n",
    "print(\"Wild Type One Hot\\n\", wt_one_hot)\n",
    "print(\"Wild Type One Hot Shape\", wt_one_hot.shape)\n",
    "print(\"Wild Type One Hot Flattened Shape\", wt_one_hot.flatten().shape)"
   ]
  },
  {
   "cell_type": "code",
   "execution_count": 12,
   "metadata": {},
   "outputs": [
    {
     "data": {
      "text/plain": [
       "1    A104D\n",
       "2    A104E\n",
       "3    A104G\n",
       "4    A104K\n",
       "5    A104P\n",
       "Name: mutations, dtype: object"
      ]
     },
     "execution_count": 12,
     "metadata": {},
     "output_type": "execute_result"
    }
   ],
   "source": [
    "# filter out mutations that have an asterisk in them. \n",
    "# Also keep only positive mutations\n",
    "single_positive_mutations = single_mutations.mutations[ (~ single_mutations.mutations.str.contains(\"*\", regex=False)) & \n",
    "                               (single_mutations.positive == 1.0) ]\n",
    "\n",
    "single_positive_mutations.head()"
   ]
  },
  {
   "cell_type": "code",
   "execution_count": 13,
   "metadata": {},
   "outputs": [
    {
     "data": {
      "text/plain": [
       "0    A104D,N383K\n",
       "1    A104E,A142E\n",
       "2    A104E,A155S\n",
       "3    A104E,A158V\n",
       "4    A104E,E147D\n",
       "Name: mutations, dtype: object"
      ]
     },
     "execution_count": 13,
     "metadata": {},
     "output_type": "execute_result"
    }
   ],
   "source": [
    "double_positive_mutations =  double_mutations.mutations[ (~ double_mutations.mutations.str.contains(\"*\", regex=False)) & \n",
    "                               (double_mutations.positive == 1.0) ]\n",
    "double_positive_mutations.head()"
   ]
  },
  {
   "cell_type": "code",
   "execution_count": 14,
   "metadata": {},
   "outputs": [],
   "source": [
    "single_hitemp_mutations = single_mutations.mutations[ (~ single_mutations.mutations.str.contains(\"*\", regex=False)) & \n",
    "                               (single_mutations.positive_hitemp == 1.0) ]\n",
    "double_hitemp_mutations =  double_mutations.mutations[ (~ double_mutations.mutations.str.contains(\"*\", regex=False)) & \n",
    "                               (double_mutations.positive_hitemp == 1.0) ]\n",
    "hitemp_mutations = list(single_hitemp_mutations) + list(double_hitemp_mutations)"
   ]
  },
  {
   "cell_type": "code",
   "execution_count": 15,
   "metadata": {},
   "outputs": [
    {
     "name": "stdout",
     "output_type": "stream",
     "text": [
      "Number of positive mutations :  196281\n",
      "Number of training positive mutations :  15000\n"
     ]
    }
   ],
   "source": [
    "# Create a list of positive mutations\n",
    "positive_mutations = list(single_positive_mutations) + list(double_positive_mutations)\n",
    "print(\"Number of positive mutations : \", len(positive_mutations))\n",
    "sample_size = 15000\n",
    "training_positive_mutations = random.sample(positive_mutations, sample_size)\n",
    "print(\"Number of training positive mutations : \", len(training_positive_mutations))"
   ]
  },
  {
   "cell_type": "code",
   "execution_count": 16,
   "metadata": {},
   "outputs": [
    {
     "data": {
      "text/plain": [
       "(15000, 10020)"
      ]
     },
     "execution_count": 16,
     "metadata": {},
     "output_type": "execute_result"
    }
   ],
   "source": [
    "# stack all the one-hot encoded vectors one on top of the other\n",
    "training_data = np.vstack(\n",
    "    (keras.utils.to_categorical(\n",
    "        mutate_wt(WT_INDEX, ALPHABET, *mut.split(\",\")), ALPHABET_SIZE).flatten() \n",
    "     for mut in training_positive_mutations))\n",
    "\n",
    "training_data.shape"
   ]
  },
  {
   "cell_type": "markdown",
   "metadata": {},
   "source": [
    "### Construct the AutoEncoder Model\n",
    "\n",
    "[VAE code taken from keras example](https://github.com/keras-team/keras/blob/master/examples/variational_autoencoder.py)"
   ]
  },
  {
   "cell_type": "code",
   "execution_count": 17,
   "metadata": {},
   "outputs": [],
   "source": [
    "# reparameterization trick\n",
    "# instead of sampling from Q(z|X), sample eps = N(0,I)\n",
    "# z = z_mean + sqrt(var)*eps\n",
    "def sampling(args):\n",
    "    \"\"\"Reparameterization trick by sampling fr an isotropic unit Gaussian.\n",
    "    # Arguments:\n",
    "        args (tensor): mean and log of variance of Q(z|X)\n",
    "    # Returns:\n",
    "        z (tensor): sampled latent vector\n",
    "    \"\"\"\n",
    "    z_mean, z_log_var = args\n",
    "    batch = K.shape(z_mean)[0]\n",
    "    dim = K.int_shape(z_mean)[1]\n",
    "    # by default, random_normal has mean=0 and std=1.0\n",
    "    epsilon = K.random_normal(shape=(batch, dim))\n",
    "    return z_mean + K.exp(0.5 * z_log_var) * epsilon"
   ]
  },
  {
   "cell_type": "code",
   "execution_count": 18,
   "metadata": {},
   "outputs": [],
   "source": [
    "# network parameters\n",
    "original_dim = WT_SIZE * ALPHABET_SIZE\n",
    "input_shape = (original_dim, )\n",
    "intermediate_dim = 256\n",
    "batch_size = 20\n",
    "latent_dim = 2\n",
    "epochs = 10\n",
    "np.random.seed(1)"
   ]
  },
  {
   "cell_type": "code",
   "execution_count": 19,
   "metadata": {},
   "outputs": [],
   "source": [
    "# VAE model = encoder + decoder\n",
    "# build encoder model\n",
    "inputs = Input(shape=input_shape, name='encoder_input')\n",
    "x = Dense(intermediate_dim, activation='relu')(inputs)\n",
    "z_mean = Dense(latent_dim, name='z_mean')(x)\n",
    "z_log_var = Dense(latent_dim, name='z_log_var')(x)\n",
    "\n",
    "# use reparameterization trick to push the sampling out as input\n",
    "# note that \"output_shape\" isn't necessary with the TensorFlow backend\n",
    "z = Lambda(sampling, output_shape=(latent_dim,), name='z')([z_mean, z_log_var])"
   ]
  },
  {
   "cell_type": "code",
   "execution_count": 20,
   "metadata": {},
   "outputs": [
    {
     "name": "stdout",
     "output_type": "stream",
     "text": [
      "__________________________________________________________________________________________________\n",
      "Layer (type)                    Output Shape         Param #     Connected to                     \n",
      "==================================================================================================\n",
      "encoder_input (InputLayer)      (None, 10020)        0                                            \n",
      "__________________________________________________________________________________________________\n",
      "dense_1 (Dense)                 (None, 256)          2565376     encoder_input[0][0]              \n",
      "__________________________________________________________________________________________________\n",
      "z_mean (Dense)                  (None, 2)            514         dense_1[0][0]                    \n",
      "__________________________________________________________________________________________________\n",
      "z_log_var (Dense)               (None, 2)            514         dense_1[0][0]                    \n",
      "__________________________________________________________________________________________________\n",
      "z (Lambda)                      (None, 2)            0           z_mean[0][0]                     \n",
      "                                                                 z_log_var[0][0]                  \n",
      "==================================================================================================\n",
      "Total params: 2,566,404\n",
      "Trainable params: 2,566,404\n",
      "Non-trainable params: 0\n",
      "__________________________________________________________________________________________________\n"
     ]
    },
    {
     "data": {
      "image/svg+xml": [
       "<svg height=\"264pt\" viewBox=\"0.00 0.00 239.50 264.00\" width=\"240pt\" xmlns=\"http://www.w3.org/2000/svg\" xmlns:xlink=\"http://www.w3.org/1999/xlink\">\n",
       "<g class=\"graph\" id=\"graph0\" transform=\"scale(1 1) rotate(0) translate(4 260)\">\n",
       "<title>G</title>\n",
       "<polygon fill=\"white\" points=\"-4,4 -4,-260 235.5,-260 235.5,4 -4,4\" stroke=\"none\"/>\n",
       "<!-- 139687553549648 -->\n",
       "<g class=\"node\" id=\"node1\"><title>139687553549648</title>\n",
       "<polygon fill=\"none\" points=\"32,-219.5 32,-255.5 193,-255.5 193,-219.5 32,-219.5\" stroke=\"black\"/>\n",
       "<text font-family=\"Times,serif\" font-size=\"14.00\" text-anchor=\"middle\" x=\"112.5\" y=\"-233.8\">encoder_input: InputLayer</text>\n",
       "</g>\n",
       "<!-- 139687553549592 -->\n",
       "<g class=\"node\" id=\"node2\"><title>139687553549592</title>\n",
       "<polygon fill=\"none\" points=\"61.5,-146.5 61.5,-182.5 163.5,-182.5 163.5,-146.5 61.5,-146.5\" stroke=\"black\"/>\n",
       "<text font-family=\"Times,serif\" font-size=\"14.00\" text-anchor=\"middle\" x=\"112.5\" y=\"-160.8\">dense_1: Dense</text>\n",
       "</g>\n",
       "<!-- 139687553549648&#45;&gt;139687553549592 -->\n",
       "<g class=\"edge\" id=\"edge1\"><title>139687553549648-&gt;139687553549592</title>\n",
       "<path d=\"M112.5,-219.313C112.5,-211.289 112.5,-201.547 112.5,-192.569\" fill=\"none\" stroke=\"black\"/>\n",
       "<polygon fill=\"black\" points=\"116,-192.529 112.5,-182.529 109,-192.529 116,-192.529\" stroke=\"black\"/>\n",
       "</g>\n",
       "<!-- 139687553550320 -->\n",
       "<g class=\"node\" id=\"node3\"><title>139687553550320</title>\n",
       "<polygon fill=\"none\" points=\"0,-73.5 0,-109.5 101,-109.5 101,-73.5 0,-73.5\" stroke=\"black\"/>\n",
       "<text font-family=\"Times,serif\" font-size=\"14.00\" text-anchor=\"middle\" x=\"50.5\" y=\"-87.8\">z_mean: Dense</text>\n",
       "</g>\n",
       "<!-- 139687553549592&#45;&gt;139687553550320 -->\n",
       "<g class=\"edge\" id=\"edge2\"><title>139687553549592-&gt;139687553550320</title>\n",
       "<path d=\"M97.4915,-146.313C89.8759,-137.592 80.4873,-126.84 72.1091,-117.246\" fill=\"none\" stroke=\"black\"/>\n",
       "<polygon fill=\"black\" points=\"74.5841,-114.759 65.3703,-109.529 69.3115,-119.363 74.5841,-114.759\" stroke=\"black\"/>\n",
       "</g>\n",
       "<!-- 139687553550432 -->\n",
       "<g class=\"node\" id=\"node4\"><title>139687553550432</title>\n",
       "<polygon fill=\"none\" points=\"119.5,-73.5 119.5,-109.5 231.5,-109.5 231.5,-73.5 119.5,-73.5\" stroke=\"black\"/>\n",
       "<text font-family=\"Times,serif\" font-size=\"14.00\" text-anchor=\"middle\" x=\"175.5\" y=\"-87.8\">z_log_var: Dense</text>\n",
       "</g>\n",
       "<!-- 139687553549592&#45;&gt;139687553550432 -->\n",
       "<g class=\"edge\" id=\"edge3\"><title>139687553549592-&gt;139687553550432</title>\n",
       "<path d=\"M127.751,-146.313C135.489,-137.592 145.029,-126.84 153.542,-117.246\" fill=\"none\" stroke=\"black\"/>\n",
       "<polygon fill=\"black\" points=\"156.371,-119.332 160.39,-109.529 151.135,-114.686 156.371,-119.332\" stroke=\"black\"/>\n",
       "</g>\n",
       "<!-- 139687555916464 -->\n",
       "<g class=\"node\" id=\"node5\"><title>139687555916464</title>\n",
       "<polygon fill=\"none\" points=\"75,-0.5 75,-36.5 150,-36.5 150,-0.5 75,-0.5\" stroke=\"black\"/>\n",
       "<text font-family=\"Times,serif\" font-size=\"14.00\" text-anchor=\"middle\" x=\"112.5\" y=\"-14.8\">z: Lambda</text>\n",
       "</g>\n",
       "<!-- 139687553550320&#45;&gt;139687555916464 -->\n",
       "<g class=\"edge\" id=\"edge4\"><title>139687553550320-&gt;139687555916464</title>\n",
       "<path d=\"M65.5085,-73.3129C73.1241,-64.5918 82.5127,-53.8402 90.8909,-44.2459\" fill=\"none\" stroke=\"black\"/>\n",
       "<polygon fill=\"black\" points=\"93.6885,-46.3634 97.6297,-36.5288 88.4159,-41.7591 93.6885,-46.3634\" stroke=\"black\"/>\n",
       "</g>\n",
       "<!-- 139687553550432&#45;&gt;139687555916464 -->\n",
       "<g class=\"edge\" id=\"edge5\"><title>139687553550432-&gt;139687555916464</title>\n",
       "<path d=\"M160.249,-73.3129C152.511,-64.5918 142.971,-53.8402 134.458,-44.2459\" fill=\"none\" stroke=\"black\"/>\n",
       "<polygon fill=\"black\" points=\"136.865,-41.6858 127.61,-36.5288 131.629,-46.3318 136.865,-41.6858\" stroke=\"black\"/>\n",
       "</g>\n",
       "</g>\n",
       "</svg>"
      ],
      "text/plain": [
       "<IPython.core.display.SVG object>"
      ]
     },
     "execution_count": 20,
     "metadata": {},
     "output_type": "execute_result"
    }
   ],
   "source": [
    "# instantiate encoder model\n",
    "encoder = Model(inputs, [z_mean, z_log_var, z], name='encoder')\n",
    "encoder.summary()\n",
    "SVG(model_to_dot(encoder).create(prog='dot', format='svg'))"
   ]
  },
  {
   "cell_type": "code",
   "execution_count": 21,
   "metadata": {},
   "outputs": [
    {
     "name": "stdout",
     "output_type": "stream",
     "text": [
      "_________________________________________________________________\n",
      "Layer (type)                 Output Shape              Param #   \n",
      "=================================================================\n",
      "z_sampling (InputLayer)      (None, 2)                 0         \n",
      "_________________________________________________________________\n",
      "dense_2 (Dense)              (None, 256)               768       \n",
      "_________________________________________________________________\n",
      "dense_3 (Dense)              (None, 10020)             2575140   \n",
      "=================================================================\n",
      "Total params: 2,575,908\n",
      "Trainable params: 2,575,908\n",
      "Non-trainable params: 0\n",
      "_________________________________________________________________\n"
     ]
    },
    {
     "data": {
      "image/svg+xml": [
       "<svg height=\"191pt\" viewBox=\"0.00 0.00 155.00 191.00\" width=\"155pt\" xmlns=\"http://www.w3.org/2000/svg\" xmlns:xlink=\"http://www.w3.org/1999/xlink\">\n",
       "<g class=\"graph\" id=\"graph0\" transform=\"scale(1 1) rotate(0) translate(4 187)\">\n",
       "<title>G</title>\n",
       "<polygon fill=\"white\" points=\"-4,4 -4,-187 151,-187 151,4 -4,4\" stroke=\"none\"/>\n",
       "<!-- 139687555175928 -->\n",
       "<g class=\"node\" id=\"node1\"><title>139687555175928</title>\n",
       "<polygon fill=\"none\" points=\"0,-146.5 0,-182.5 147,-182.5 147,-146.5 0,-146.5\" stroke=\"black\"/>\n",
       "<text font-family=\"Times,serif\" font-size=\"14.00\" text-anchor=\"middle\" x=\"73.5\" y=\"-160.8\">z_sampling: InputLayer</text>\n",
       "</g>\n",
       "<!-- 139687555175872 -->\n",
       "<g class=\"node\" id=\"node2\"><title>139687555175872</title>\n",
       "<polygon fill=\"none\" points=\"22.5,-73.5 22.5,-109.5 124.5,-109.5 124.5,-73.5 22.5,-73.5\" stroke=\"black\"/>\n",
       "<text font-family=\"Times,serif\" font-size=\"14.00\" text-anchor=\"middle\" x=\"73.5\" y=\"-87.8\">dense_2: Dense</text>\n",
       "</g>\n",
       "<!-- 139687555175928&#45;&gt;139687555175872 -->\n",
       "<g class=\"edge\" id=\"edge1\"><title>139687555175928-&gt;139687555175872</title>\n",
       "<path d=\"M73.5,-146.313C73.5,-138.289 73.5,-128.547 73.5,-119.569\" fill=\"none\" stroke=\"black\"/>\n",
       "<polygon fill=\"black\" points=\"77.0001,-119.529 73.5,-109.529 70.0001,-119.529 77.0001,-119.529\" stroke=\"black\"/>\n",
       "</g>\n",
       "<!-- 139687555178392 -->\n",
       "<g class=\"node\" id=\"node3\"><title>139687555178392</title>\n",
       "<polygon fill=\"none\" points=\"22.5,-0.5 22.5,-36.5 124.5,-36.5 124.5,-0.5 22.5,-0.5\" stroke=\"black\"/>\n",
       "<text font-family=\"Times,serif\" font-size=\"14.00\" text-anchor=\"middle\" x=\"73.5\" y=\"-14.8\">dense_3: Dense</text>\n",
       "</g>\n",
       "<!-- 139687555175872&#45;&gt;139687555178392 -->\n",
       "<g class=\"edge\" id=\"edge2\"><title>139687555175872-&gt;139687555178392</title>\n",
       "<path d=\"M73.5,-73.3129C73.5,-65.2895 73.5,-55.5475 73.5,-46.5691\" fill=\"none\" stroke=\"black\"/>\n",
       "<polygon fill=\"black\" points=\"77.0001,-46.5288 73.5,-36.5288 70.0001,-46.5289 77.0001,-46.5288\" stroke=\"black\"/>\n",
       "</g>\n",
       "</g>\n",
       "</svg>"
      ],
      "text/plain": [
       "<IPython.core.display.SVG object>"
      ]
     },
     "execution_count": 21,
     "metadata": {},
     "output_type": "execute_result"
    }
   ],
   "source": [
    "# build decoder model\n",
    "latent_inputs = Input(shape=(latent_dim,), name='z_sampling')\n",
    "x = Dense(intermediate_dim, activation='relu')(latent_inputs)\n",
    "outputs = Dense(original_dim, activation='sigmoid')(x)\n",
    "\n",
    "# instantiate decoder model\n",
    "decoder = Model(latent_inputs, outputs, name='decoder')\n",
    "decoder.summary()\n",
    "SVG(model_to_dot(decoder).create(prog='dot', format='svg'))"
   ]
  },
  {
   "cell_type": "code",
   "execution_count": 22,
   "metadata": {},
   "outputs": [],
   "source": [
    "# instantiate VAE model\n",
    "outputs = decoder(encoder(inputs)[2])\n",
    "vae = Model(inputs, outputs, name='vae_mlp')"
   ]
  },
  {
   "cell_type": "code",
   "execution_count": 23,
   "metadata": {},
   "outputs": [],
   "source": [
    "# VAE loss\n",
    "def vae_loss(x, x_decoded_mean):\n",
    "    xent_loss = original_dim * objectives.binary_crossentropy(x, x_decoded_mean)\n",
    "    kl_loss = - 0.5 * K.mean(1 + z_log_var - K.square(z_mean) - K.exp(z_log_var), axis=-1)\n",
    "    return xent_loss + kl_loss"
   ]
  },
  {
   "cell_type": "code",
   "execution_count": 24,
   "metadata": {},
   "outputs": [
    {
     "name": "stdout",
     "output_type": "stream",
     "text": [
      "_________________________________________________________________\n",
      "Layer (type)                 Output Shape              Param #   \n",
      "=================================================================\n",
      "encoder_input (InputLayer)   (None, 10020)             0         \n",
      "_________________________________________________________________\n",
      "encoder (Model)              [(None, 2), (None, 2), (N 2566404   \n",
      "_________________________________________________________________\n",
      "decoder (Model)              (None, 10020)             2575908   \n",
      "=================================================================\n",
      "Total params: 5,142,312\n",
      "Trainable params: 5,142,312\n",
      "Non-trainable params: 0\n",
      "_________________________________________________________________\n"
     ]
    },
    {
     "data": {
      "image/svg+xml": [
       "<svg height=\"191pt\" viewBox=\"0.00 0.00 155.00 191.00\" width=\"155pt\" xmlns=\"http://www.w3.org/2000/svg\" xmlns:xlink=\"http://www.w3.org/1999/xlink\">\n",
       "<g class=\"graph\" id=\"graph0\" transform=\"scale(1 1) rotate(0) translate(4 187)\">\n",
       "<title>G</title>\n",
       "<polygon fill=\"white\" points=\"-4,4 -4,-187 151,-187 151,4 -4,4\" stroke=\"none\"/>\n",
       "<!-- 139687555175928 -->\n",
       "<g class=\"node\" id=\"node1\"><title>139687555175928</title>\n",
       "<polygon fill=\"none\" points=\"0,-146.5 0,-182.5 147,-182.5 147,-146.5 0,-146.5\" stroke=\"black\"/>\n",
       "<text font-family=\"Times,serif\" font-size=\"14.00\" text-anchor=\"middle\" x=\"73.5\" y=\"-160.8\">z_sampling: InputLayer</text>\n",
       "</g>\n",
       "<!-- 139687555175872 -->\n",
       "<g class=\"node\" id=\"node2\"><title>139687555175872</title>\n",
       "<polygon fill=\"none\" points=\"22.5,-73.5 22.5,-109.5 124.5,-109.5 124.5,-73.5 22.5,-73.5\" stroke=\"black\"/>\n",
       "<text font-family=\"Times,serif\" font-size=\"14.00\" text-anchor=\"middle\" x=\"73.5\" y=\"-87.8\">dense_2: Dense</text>\n",
       "</g>\n",
       "<!-- 139687555175928&#45;&gt;139687555175872 -->\n",
       "<g class=\"edge\" id=\"edge1\"><title>139687555175928-&gt;139687555175872</title>\n",
       "<path d=\"M73.5,-146.313C73.5,-138.289 73.5,-128.547 73.5,-119.569\" fill=\"none\" stroke=\"black\"/>\n",
       "<polygon fill=\"black\" points=\"77.0001,-119.529 73.5,-109.529 70.0001,-119.529 77.0001,-119.529\" stroke=\"black\"/>\n",
       "</g>\n",
       "<!-- 139687555178392 -->\n",
       "<g class=\"node\" id=\"node3\"><title>139687555178392</title>\n",
       "<polygon fill=\"none\" points=\"22.5,-0.5 22.5,-36.5 124.5,-36.5 124.5,-0.5 22.5,-0.5\" stroke=\"black\"/>\n",
       "<text font-family=\"Times,serif\" font-size=\"14.00\" text-anchor=\"middle\" x=\"73.5\" y=\"-14.8\">dense_3: Dense</text>\n",
       "</g>\n",
       "<!-- 139687555175872&#45;&gt;139687555178392 -->\n",
       "<g class=\"edge\" id=\"edge2\"><title>139687555175872-&gt;139687555178392</title>\n",
       "<path d=\"M73.5,-73.3129C73.5,-65.2895 73.5,-55.5475 73.5,-46.5691\" fill=\"none\" stroke=\"black\"/>\n",
       "<polygon fill=\"black\" points=\"77.0001,-46.5288 73.5,-36.5288 70.0001,-46.5289 77.0001,-46.5288\" stroke=\"black\"/>\n",
       "</g>\n",
       "</g>\n",
       "</svg>"
      ],
      "text/plain": [
       "<IPython.core.display.SVG object>"
      ]
     },
     "execution_count": 24,
     "metadata": {},
     "output_type": "execute_result"
    }
   ],
   "source": [
    "vae.compile(optimizer='adam', loss=vae_loss)\n",
    "vae.summary()\n",
    "SVG(model_to_dot(decoder).create(prog='dot', format='svg'))"
   ]
  },
  {
   "cell_type": "markdown",
   "metadata": {},
   "source": [
    "### Run the AutoEncoder model"
   ]
  },
  {
   "cell_type": "code",
   "execution_count": 25,
   "metadata": {},
   "outputs": [
    {
     "name": "stdout",
     "output_type": "stream",
     "text": [
      "Train on 13500 samples, validate on 1500 samples\n",
      "Epoch 1/10\n",
      "13500/13500 [==============================] - 114s 8ms/step - loss: 145.6813 - val_loss: 37.5079\n",
      "Epoch 2/10\n",
      "13500/13500 [==============================] - 110s 8ms/step - loss: 34.0696 - val_loss: 31.8401\n",
      "Epoch 3/10\n",
      "13500/13500 [==============================] - 111s 8ms/step - loss: 30.9450 - val_loss: 30.1565\n",
      "Epoch 4/10\n",
      "13500/13500 [==============================] - 112s 8ms/step - loss: 29.7505 - val_loss: 29.8029\n",
      "Epoch 5/10\n",
      "13500/13500 [==============================] - 111s 8ms/step - loss: 29.1883 - val_loss: 29.0434\n",
      "Epoch 6/10\n",
      "13500/13500 [==============================] - 111s 8ms/step - loss: 28.8499 - val_loss: 28.7670\n",
      "Epoch 7/10\n",
      "13500/13500 [==============================] - 118s 9ms/step - loss: 28.6712 - val_loss: 28.6908\n",
      "Epoch 8/10\n",
      "13500/13500 [==============================] - 116s 9ms/step - loss: 28.4459 - val_loss: 28.5353\n",
      "Epoch 9/10\n",
      "13500/13500 [==============================] - 116s 9ms/step - loss: 28.1291 - val_loss: 28.0203\n",
      "Epoch 10/10\n",
      "13500/13500 [==============================] - 117s 9ms/step - loss: 27.6086 - val_loss: 27.4984\n"
     ]
    },
    {
     "data": {
      "text/plain": [
       "<keras.callbacks.History at 0x7f0b8b1e98d0>"
      ]
     },
     "execution_count": 25,
     "metadata": {},
     "output_type": "execute_result"
    }
   ],
   "source": [
    "vae.fit(training_data, training_data, epochs=epochs, batch_size=batch_size, validation_split=0.1)"
   ]
  },
  {
   "cell_type": "code",
   "execution_count": 26,
   "metadata": {},
   "outputs": [
    {
     "data": {
      "text/plain": [
       "(15000, 2)"
      ]
     },
     "execution_count": 26,
     "metadata": {},
     "output_type": "execute_result"
    }
   ],
   "source": [
    "training_data_encoded = encoder.predict(training_data, batch_size=batch_size)\n",
    "training_data_encoded[0].shape"
   ]
  },
  {
   "cell_type": "code",
   "execution_count": 27,
   "metadata": {},
   "outputs": [],
   "source": [
    "# create a zero or 1 mask if each of our training positive mutations \n",
    "# is also a high temp mutation\n",
    "hitemp_mask = np.isin(np.array(training_positive_mutations), \n",
    "                      np.array(hitemp_mutations)).astype(np.int)"
   ]
  },
  {
   "cell_type": "code",
   "execution_count": 28,
   "metadata": {},
   "outputs": [],
   "source": [
    "latent_space = pd.DataFrame(data = \n",
    "                    {'latent1':training_data_encoded[0][:, 0], \n",
    "                     'latent2':training_data_encoded[0][:, 1],\n",
    "                     'hitemp_mask':hitemp_mask\n",
    "                    })"
   ]
  },
  {
   "cell_type": "code",
   "execution_count": 31,
   "metadata": {},
   "outputs": [
    {
     "data": {
      "image/png": "[encoded data removed]",
      "text/plain": [
       "<matplotlib.figure.Figure at 0x7f0b8b1ffba8>"
      ]
     },
     "metadata": {},
     "output_type": "display_data"
    }
   ],
   "source": [
    "# Visualize latent space\n",
    "ax = sns.lmplot(x=\"latent1\", y=\"latent2\", data=latent_space, \n",
    "                fit_reg=False, hue=\"hitemp_mask\", scatter_kws={'alpha':0.3, 's':1.0})"
   ]
  }
 ],
 "metadata": {
  "kernelspec": {
   "display_name": "Python 3",
   "language": "python",
   "name": "python3"
  },
  "language_info": {
   "codemirror_mode": {
    "name": "ipython",
    "version": 3
   },
   "file_extension": ".py",
   "mimetype": "text/x-python",
   "name": "python",
   "nbconvert_exporter": "python",
   "pygments_lexer": "ipython3",
   "version": "3.5.2"
  },
  "widgets": {
   "state": {},
   "version": "1.1.2"
  }
 },
 "nbformat": 4,
 "nbformat_minor": 2
}
