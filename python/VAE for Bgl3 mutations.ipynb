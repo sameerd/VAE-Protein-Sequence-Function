{
 "cells": [
  {
   "cell_type": "code",
   "execution_count": 1,
   "metadata": {},
   "outputs": [],
   "source": [
    "import numpy as np\n",
    "import pandas as pd\n",
    "%matplotlib inline\n",
    "import matplotlib.pyplot as plt"
   ]
  },
  {
   "cell_type": "code",
   "execution_count": 2,
   "metadata": {},
   "outputs": [],
   "source": [
    "single_mutation_file = \"../data/working/Bgl3_single_mutations.tsv\"\n",
    "double_mutation_file = \"../data/working/Bgl3_double_mutations.tsv\""
   ]
  },
  {
   "cell_type": "code",
   "execution_count": 3,
   "metadata": {},
   "outputs": [],
   "source": [
    "single_mutations = pd.read_csv(single_mutation_file, sep=\"\\t\")\n",
    "double_mutations = pd.read_csv(double_mutation_file, sep=\"\\t\")"
   ]
  },
  {
   "cell_type": "code",
   "execution_count": 4,
   "metadata": {},
   "outputs": [
    {
     "data": {
      "text/html": [
       "<div>\n",
       "<style scoped>\n",
       "    .dataframe tbody tr th:only-of-type {\n",
       "        vertical-align: middle;\n",
       "    }\n",
       "\n",
       "    .dataframe tbody tr th {\n",
       "        vertical-align: top;\n",
       "    }\n",
       "\n",
       "    .dataframe thead th {\n",
       "        text-align: right;\n",
       "    }\n",
       "</style>\n",
       "<table border=\"1\" class=\"dataframe\">\n",
       "  <thead>\n",
       "    <tr style=\"text-align: right;\">\n",
       "      <th></th>\n",
       "      <th>Unnamed: 0</th>\n",
       "      <th>positive</th>\n",
       "      <th>unsorted</th>\n",
       "      <th>positive_hitemp</th>\n",
       "    </tr>\n",
       "  </thead>\n",
       "  <tbody>\n",
       "    <tr>\n",
       "      <th>count</th>\n",
       "      <td>5573.0</td>\n",
       "      <td>4522.0</td>\n",
       "      <td>4435.0</td>\n",
       "      <td>4054.0</td>\n",
       "    </tr>\n",
       "  </tbody>\n",
       "</table>\n",
       "</div>"
      ],
      "text/plain": [
       "       Unnamed: 0  positive  unsorted  positive_hitemp\n",
       "count      5573.0    4522.0    4435.0           4054.0"
      ]
     },
     "execution_count": 4,
     "metadata": {},
     "output_type": "execute_result"
    }
   ],
   "source": [
    "single_mutations.describe()[:1]"
   ]
  },
  {
   "cell_type": "code",
   "execution_count": 5,
   "metadata": {},
   "outputs": [
    {
     "data": {
      "text/html": [
       "<div>\n",
       "<style scoped>\n",
       "    .dataframe tbody tr th:only-of-type {\n",
       "        vertical-align: middle;\n",
       "    }\n",
       "\n",
       "    .dataframe tbody tr th {\n",
       "        vertical-align: top;\n",
       "    }\n",
       "\n",
       "    .dataframe thead th {\n",
       "        text-align: right;\n",
       "    }\n",
       "</style>\n",
       "<table border=\"1\" class=\"dataframe\">\n",
       "  <thead>\n",
       "    <tr style=\"text-align: right;\">\n",
       "      <th></th>\n",
       "      <th>Unnamed: 0</th>\n",
       "      <th>positive</th>\n",
       "      <th>unsorted</th>\n",
       "      <th>positive_hitemp</th>\n",
       "    </tr>\n",
       "  </thead>\n",
       "  <tbody>\n",
       "    <tr>\n",
       "      <th>count</th>\n",
       "      <td>523013.0</td>\n",
       "      <td>202618.0</td>\n",
       "      <td>263530.0</td>\n",
       "      <td>198481.0</td>\n",
       "    </tr>\n",
       "  </tbody>\n",
       "</table>\n",
       "</div>"
      ],
      "text/plain": [
       "       Unnamed: 0  positive  unsorted  positive_hitemp\n",
       "count    523013.0  202618.0  263530.0         198481.0"
      ]
     },
     "execution_count": 5,
     "metadata": {},
     "output_type": "execute_result"
    }
   ],
   "source": [
    "double_mutations.describe()[:1]"
   ]
  },
  {
   "cell_type": "code",
   "execution_count": 6,
   "metadata": {},
   "outputs": [],
   "source": [
    "def truncate_string_after_asterisk(seq):\n",
    "    idx = seq.find(\"*\")\n",
    "    ret = seq\n",
    "    if idx >= 0:\n",
    "        ret = seq[:idx]\n",
    "    return(ret)"
   ]
  },
  {
   "cell_type": "code",
   "execution_count": 7,
   "metadata": {},
   "outputs": [
    {
     "name": "stdout",
     "output_type": "stream",
     "text": [
      "ALPHABET = ['A' 'C' 'D' 'E' 'F' 'G' 'H' 'I' 'K' 'L' 'M' 'N' 'P' 'Q' 'R' 'S' 'T' 'V'\n",
      " 'W' 'Y']\n",
      "ALPHABET_SIZE = 20\n",
      "WT_SIZE =  500\n",
      "WT_INDEX =  [10 17 12  0  0 13 13 16  0 10  0 12  2  0  0  9 16  4 12  3  5  4  9 18\n",
      "  5 15  0 16  0 15 19 13  7  3  5  0  0  0  3  2  5 14 16 12 15  7 18  2\n",
      " 16 19  0 14 16 12  5 14 17 14 11  5  2 16  5  2 17  0 16  2  6 19  6 14\n",
      " 18 14  3  2 17  0  9 10  0  3  9  5  9  5  0 19 14  4 15  9  0 18 12 14\n",
      "  7 13 12 16  5 14  5 12  0  9 13  8  5  9  2  4 19 14 14  9  0  2  3  9\n",
      "  9  0  8  5  7 13 12 17  0 16  9 19  6 18  2  9 12 13  3  9  3 11  0  5\n",
      "  5 18 12  3 14  0 16  0  3 14  4  0  3 19  0  0  7  0  0  2  0  9  5  2\n",
      " 14 17  8 16 18 16 16  9 11  3 12 18  1 15  0  4  9  5 19  5 15  5 17  6\n",
      "  0 12  5 14 16  2 12 17  0  0  9 14  0  0  6  6  9 11  9  5  6  5  9  0\n",
      " 17 13  0  9 14  2 14  9 12  0  2  0 13  1 15 17 16  9 11  7  6  6 17 14\n",
      " 12  9 16  2 15  2  0  2  0  2  0 17 14 14  7  2  0  9  0 11 14 17  4 16\n",
      "  5 12 10  9 13  5  0 19 12  3  2  9 17  8  2 16  0  5  9 16  2 18 15  4\n",
      " 17 14  2  5  2  9 14  9  0  6 13  8  9  2  4  9  5 17 11 19 19 15 12 16\n",
      "  9 17 15  3  0  2  5 15  5 16  6 11 15  2  5  6  5 14 15  0  6 15 12 18\n",
      " 12  5  0  2 14 17  0  4  6 13 12 12  5  3 16 16  0 10  5 18  0 17  2 12\n",
      " 15  5  9 19  3  9  9 14 14  9 15 15  2  4 12  0  9 12  9 17  7 16  3 11\n",
      "  5  0  0  4  6  2 19  0  2 12  3  5 11 17 11  2 12  3 14  7  0 19 17 14\n",
      "  2  6  9  0  0 17  6 14  0  7  8  2  5 15  2 17 14  5 19  4  9 18 15  9\n",
      "  9  2 11  4  3 18  0  6  5 19 15  8 14  4  5  0 17 19 17  2 19 12 16  5\n",
      " 16 14  7 12  8  0 15  0 14 18 19  0  3 17  0 14 16  5 17  9 12 16  0  5\n",
      "  2 12 11 15 15 15 17  2  8  9  0  0  0  9  3  6  6  6  6  6  6]\n"
     ]
    }
   ],
   "source": [
    "# Set up constants for wild type and alphabets\n",
    "WT_Bgl3 = 'MVPAAQQTAMAPDAALTFPEGFLWGSATASYQIEGAAAEDGRTPSIWDTYARTPGRVRNGDTGDVATDHYHRWREDVALMAELGLGAYRFSLAWPRIQPTGRGPALQKGLDFYRRLADELLAKGIQPVATLYHWDLPQELENAGGWPERATAERFAEYAAIAADALGDRVKTWTTLNEPWCSAFLGYGSGVHAPGRTDPVAALRAAHHLNLGHGLAVQALRDRLPADAQCSVTLNIHHVRPLTDSDADADAVRRIDALANRVFTGPMLQGAYPEDLVKDTAGLTDWSFVRDGDLRLAHQKLDFLGVNYYSPTLVSEADGSGTHNSDGHGRSAHSPWPGADRVAFHQPPGETTAMGWAVDPSGLYELLRRLSSDFPALPLVITENGAAFHDYADPEGNVNDPERIAYVRDHLAAVHRAIKDGSDVRGYFLWSLLDNFEWAHGYSKRFGAVYVDYPTGTRIPKASARWYAEVARTGVLPTAGDPNSSSVDKLAAALEHHHHHH*'\n",
    "\n",
    "WT_Bgl3 = np.array(list(truncate_string_after_asterisk(WT_Bgl3)))\n",
    "\n",
    "# Find all the unique letters\n",
    "ALPHABET = np.array([l for l in set(WT_Bgl3) if l != \"*\"])\n",
    "ALPHABET.sort()\n",
    "ALPHABET_SIZE = len(ALPHABET)\n",
    "print(\"ALPHABET =\", ALPHABET)\n",
    "print(\"ALPHABET_SIZE =\", ALPHABET_SIZE)\n",
    "\n",
    "WT_SIZE = len(WT_Bgl3) - 1 # subtract 1 for the stop codon at the end\n",
    "print(\"WT_SIZE = \", WT_SIZE)\n",
    "\n",
    "# This is an integer representation of the WT (index positions of the ALPHABET)\n",
    "WT_INDEX = ALPHABET.searchsorted(WT_Bgl3)\n",
    "print(\"WT_INDEX = \", WT_INDEX)"
   ]
  },
  {
   "cell_type": "code",
   "execution_count": 8,
   "metadata": {},
   "outputs": [
    {
     "data": {
      "text/plain": [
       "array([10, 17, 12,  4,  9, 13, 13, 16,  0, 10,  0, 12,  2,  0,  0,  9, 16,\n",
       "        4, 12,  3,  5,  4,  9, 18,  5, 15,  0, 16,  0, 15, 19, 13,  7,  3,\n",
       "        5,  0,  0,  0,  3,  2,  5, 14, 16, 12, 15,  7, 18,  2, 16, 19,  0,\n",
       "       14, 16, 12,  5, 14, 17, 14, 11,  5,  2, 16,  5,  2, 17,  0, 16,  2,\n",
       "        6, 19,  6, 14, 18, 14,  3,  2, 17,  0,  9, 10,  0,  3,  9,  5,  9,\n",
       "        5,  0, 19, 14,  4, 15,  9,  0, 18, 12, 14,  7, 13, 12, 16,  5, 14,\n",
       "        5, 12,  0,  9, 13,  8,  5,  9,  2,  4, 19, 14, 14,  9,  0,  2,  3,\n",
       "        9,  9,  0,  8,  5,  7, 13, 12, 17,  0, 16,  9, 19,  6, 18,  2,  9,\n",
       "       12, 13,  3,  9,  3, 11,  0,  5,  5, 18, 12,  3, 14,  0, 16,  0,  3,\n",
       "       14,  4,  0,  3, 19,  0,  0,  7,  0,  0,  2,  0,  9,  5,  2, 14, 17,\n",
       "        8, 16, 18, 16, 16,  9, 11,  3, 12, 18,  1, 15,  0,  4,  9,  5, 19,\n",
       "        5, 15,  5, 17,  6,  0, 12,  5, 14, 16,  2, 12, 17,  0,  0,  9, 14,\n",
       "        0,  0,  6,  6,  9, 11,  9,  5,  6,  5,  9,  0, 17, 13,  0,  9, 14,\n",
       "        2, 14,  9, 12,  0,  2,  0, 13,  1, 15, 17, 16,  9, 11,  7,  6,  6,\n",
       "       17, 14, 12,  9, 16,  2, 15,  2,  0,  2,  0,  2,  0, 17, 14, 14,  7,\n",
       "        2,  0,  9,  0, 11, 14, 17,  4, 16,  5, 12, 10,  9, 13,  5,  0, 19,\n",
       "       12,  3,  2,  9, 17,  8,  2, 16,  0,  5,  9, 16,  2, 18, 15,  4, 17,\n",
       "       14,  2,  5,  2,  9, 14,  9,  0,  6, 13,  8,  9,  2,  4,  9,  5, 17,\n",
       "       11, 19, 19, 15, 12, 16,  9, 17, 15,  3,  0,  2,  5, 15,  5, 16,  6,\n",
       "       11, 15,  2,  5,  6,  5, 14, 15,  0,  6, 15, 12, 18, 12,  5,  0,  2,\n",
       "       14, 17,  0,  4,  6, 13, 12, 12,  5,  3, 16, 16,  0, 10,  5, 18,  0,\n",
       "       17,  2, 12, 15,  5,  9, 19,  3,  9,  9, 14, 14,  9, 15, 15,  2,  4,\n",
       "       12,  0,  9, 12,  9, 17,  7, 16,  3, 11,  5,  0,  0,  4,  6,  2, 19,\n",
       "        0,  2, 12,  3,  5, 11, 17, 11,  2, 12,  3, 14,  7,  0, 19, 17, 14,\n",
       "        2,  6,  9,  0,  0, 17,  6, 14,  0,  7,  8,  2,  5, 15,  2, 17, 14,\n",
       "        5, 19,  4,  9, 18, 15,  9,  9,  2, 11,  4,  3, 18,  0,  6,  5, 19,\n",
       "       15,  8, 14,  4,  5,  0, 17, 19, 17,  2, 19, 12, 16,  5, 16, 14,  7,\n",
       "       12,  8,  0, 15,  0, 14, 18, 19,  0,  3, 17,  0, 14, 16,  5, 17,  9,\n",
       "       12, 16,  0,  5,  2, 12, 11, 15, 15, 15, 17,  2,  8,  9,  0,  0,  0,\n",
       "        9,  3,  6,  6,  6,  6,  6,  6])"
      ]
     },
     "execution_count": 8,
     "metadata": {},
     "output_type": "execute_result"
    }
   ],
   "source": [
    "def mutate_wt(wt_index, alphabet_sorted, *mutations):\n",
    "    mutation_index = wt_index.copy()\n",
    "\n",
    "    for mutation in mutations:\n",
    "        replace_char = mutation[-1]\n",
    "        idx = int(mutation[1:-1]) - 1 # convert the one based index of the mutation to the zero based index\n",
    "        mutation_index[idx] = alphabet_sorted.searchsorted(replace_char)\n",
    "\n",
    "    return(mutation_index)\n",
    "\n",
    "mutate_wt(WT_INDEX, ALPHABET, \"A4F\", \"A5L\")"
   ]
  }
 ],
 "metadata": {
  "kernelspec": {
   "display_name": "Python 3",
   "language": "python",
   "name": "python3"
  },
  "language_info": {
   "codemirror_mode": {
    "name": "ipython",
    "version": 3
   },
   "file_extension": ".py",
   "mimetype": "text/x-python",
   "name": "python",
   "nbconvert_exporter": "python",
   "pygments_lexer": "ipython3",
   "version": "3.5.2"
  },
  "widgets": {
   "state": {},
   "version": "1.1.2"
  }
 },
 "nbformat": 4,
 "nbformat_minor": 2
}
